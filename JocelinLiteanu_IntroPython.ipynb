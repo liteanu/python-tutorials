{
 "cells": [
  {
   "cell_type": "markdown",
   "metadata": {
    "collapsed": false
   },
   "source": [
    "## Jocelin Liteanu - IntroPython"
   ]
  },
  {
   "cell_type": "code",
   "execution_count": 5,
   "metadata": {
    "collapsed": false
   },
   "outputs": [
   ],
   "source": [
    "import numpy as np"
   ]
  },
  {
   "cell_type": "markdown",
   "metadata": {
    "collapsed": false
   },
   "source": [
    "### Create an array called: `abs_mag`\n",
    "* 100 evenly spaced point between 3.0 and 15.0"
   ]
  },
  {
   "cell_type": "code",
   "execution_count": 39,
   "metadata": {
    "collapsed": false
   },
   "outputs": [
    {
     "data": {
      "text/plain": [
       "array([  3.        ,   3.12121212,   3.24242424,   3.36363636,\n",
       "         3.48484848,   3.60606061,   3.72727273,   3.84848485,\n",
       "         3.96969697,   4.09090909,   4.21212121,   4.33333333,\n",
       "         4.45454545,   4.57575758,   4.6969697 ,   4.81818182,\n",
       "         4.93939394,   5.06060606,   5.18181818,   5.3030303 ,\n",
       "         5.42424242,   5.54545455,   5.66666667,   5.78787879,\n",
       "         5.90909091,   6.03030303,   6.15151515,   6.27272727,\n",
       "         6.39393939,   6.51515152,   6.63636364,   6.75757576,\n",
       "         6.87878788,   7.        ,   7.12121212,   7.24242424,\n",
       "         7.36363636,   7.48484848,   7.60606061,   7.72727273,\n",
       "         7.84848485,   7.96969697,   8.09090909,   8.21212121,\n",
       "         8.33333333,   8.45454545,   8.57575758,   8.6969697 ,\n",
       "         8.81818182,   8.93939394,   9.06060606,   9.18181818,\n",
       "         9.3030303 ,   9.42424242,   9.54545455,   9.66666667,\n",
       "         9.78787879,   9.90909091,  10.03030303,  10.15151515,\n",
       "        10.27272727,  10.39393939,  10.51515152,  10.63636364,\n",
       "        10.75757576,  10.87878788,  11.        ,  11.12121212,\n",
       "        11.24242424,  11.36363636,  11.48484848,  11.60606061,\n",
       "        11.72727273,  11.84848485,  11.96969697,  12.09090909,\n",
       "        12.21212121,  12.33333333,  12.45454545,  12.57575758,\n",
       "        12.6969697 ,  12.81818182,  12.93939394,  13.06060606,\n",
       "        13.18181818,  13.3030303 ,  13.42424242,  13.54545455,\n",
       "        13.66666667,  13.78787879,  13.90909091,  14.03030303,\n",
       "        14.15151515,  14.27272727,  14.39393939,  14.51515152,\n",
       "        14.63636364,  14.75757576,  14.87878788,  15.        ])"
      ]
     },
     "execution_count": 39,
     "metadata": {
     },
     "output_type": "execute_result"
    }
   ],
   "source": [
    "abs_mag = np.linspace(3,15,100)\n",
    "\n",
    "abs_mag"
   ]
  },
  {
   "cell_type": "markdown",
   "metadata": {
    "collapsed": false
   },
   "source": [
    "### Write a function called  `find_size` to compute:\n",
    "\n",
    "$$\\large 4200\\ * 10^{-0.2\\ \\textrm{abs_mag}}$$"
   ]
  },
  {
   "cell_type": "code",
   "execution_count": 40,
   "metadata": {
    "collapsed": false
   },
   "outputs": [
   ],
   "source": [
    "def find_size(abs_mag):\n",
    "    result = ( 4200 * 10 ** ( -.2 * abs_mag ) )\n",
    "    return result\n"
   ]
  },
  {
   "cell_type": "markdown",
   "metadata": {
    "collapsed": false
   },
   "source": [
    "### Apply the function to the array `abs_mag`. Call the output array: `size_of_rock`"
   ]
  },
  {
   "cell_type": "code",
   "execution_count": 41,
   "metadata": {
    "collapsed": false
   },
   "outputs": [
    {
     "data": {
      "text/plain": [
       "array([ 1054.99230123,   997.71583749,   943.54896355,   892.32285703,\n",
       "         843.87786108,   798.06298674,   754.73544238,   713.76018868,\n",
       "         675.00951768,   638.36265484,   603.70538254,   570.92968417,\n",
       "         539.9334074 ,   510.61994588,   482.89793807,   456.68098254,\n",
       "         431.88736869,   408.43982202,   386.26526337,   365.2945811 ,\n",
       "         345.46241568,   326.70695605,   308.96974687,   292.19550645,\n",
       "         276.33195436,   261.32964851,   247.14183111,   233.72428283,\n",
       "         221.03518511,   209.0349897 ,   197.6862955 ,   186.95373194,\n",
       "         176.80384872,   167.20501163,   158.12730389,   149.54243291,\n",
       "         141.42364216,   133.74562773,   126.48445948,   119.61750647,\n",
       "         113.12336641,   106.98179894,   101.1736626 ,    95.6808551 ,\n",
       "          90.48625698,    85.57367818,    80.92780762,    76.53416547,\n",
       "          72.37905804,    68.44953505,    64.73334935,    61.21891864,\n",
       "          57.89528948,    54.75210309,    51.77956306,    48.96840485,\n",
       "          46.3098669 ,    43.79566333,    41.41795809,    39.16934057,\n",
       "          37.04280248,    35.03171602,    33.12981322,    31.3311664 ,\n",
       "          29.63016971,    28.02152162,    26.50020847,    25.06148875,\n",
       "          23.70087839,    22.41413677,    21.19725349,    20.04643588,\n",
       "          18.95809717,    17.92884533,    16.95547249,    16.03494491,\n",
       "          15.16439359,    14.34110527,    13.562514  ,    12.82619314,\n",
       "          12.12984778,    11.47130764,    10.84852021,    10.25954447,\n",
       "           9.70254474,     9.17578502,     8.67762355,     8.2065077 ,\n",
       "           7.76096915,     7.33961928,     6.94114487,     6.56430398,\n",
       "           6.20792212,     5.87088855,     5.55215282,     5.25072154,\n",
       "           4.96565523,     4.69606543,     4.44111189,     4.2       ])"
      ]
     },
     "execution_count": 41,
     "metadata": {
     },
     "output_type": "execute_result"
    }
   ],
   "source": [
    "size_of_rock = find_size(abs_mag)\n",
    "\n",
    "size_of_rock"
   ]
  },
  {
   "cell_type": "markdown",
   "metadata": {
    "collapsed": false
   },
   "source": [
    "### How many values of `size _of_rock` are greater than 500?"
   ]
  },
  {
   "cell_type": "code",
   "execution_count": 0,
   "metadata": {
    "collapsed": false
   },
   "outputs": [
   ],
   "source": [
   ]
  },
  {
   "cell_type": "code",
   "execution_count": 52,
   "metadata": {
    "collapsed": false
   },
   "outputs": [
    {
     "data": {
      "text/plain": [
       "14"
      ]
     },
     "execution_count": 52,
     "metadata": {
     },
     "output_type": "execute_result"
    }
   ],
   "source": [
    "mask1 = np.where(size_of_rock > 500)\n",
    "size_of_rock[mask1].size"
   ]
  },
  {
   "cell_type": "code",
   "execution_count": 0,
   "metadata": {
    "collapsed": false
   },
   "outputs": [
   ],
   "source": [
   ]
  },
  {
   "cell_type": "markdown",
   "metadata": {
    "collapsed": false
   },
   "source": [
    "### How many values of `size _of_rock` are between 10 and 50?"
   ]
  },
  {
   "cell_type": "code",
   "execution_count": 55,
   "metadata": {
    "collapsed": false
   },
   "outputs": [
    {
     "data": {
      "text/plain": [
       "29"
      ]
     },
     "execution_count": 55,
     "metadata": {
     },
     "output_type": "execute_result"
    }
   ],
   "source": [
    "mask2 = np.where( (10 < size_of_rock) & (size_of_rock < 50) )\n",
    "size_of_rock[mask2].size"
   ]
  },
  {
   "cell_type": "markdown",
   "metadata": {
    "collapsed": false
   },
   "source": [
    "### Due Tue Jan 16 - 12pm (Noon)\n",
    "- `Make sure to change the filename to your name!`\n",
    "- `Make sure to change the Title to your name!`"
   ]
  }
 ],
 "metadata": {
  "anaconda-cloud": {
  },
  "kernelspec": {
   "display_name": "Python 3 (Anaconda)",
   "language": "python",
   "name": "anaconda3"
  },
  "language_info": {
   "codemirror_mode": {
    "name": "ipython",
    "version": 3
   },
   "file_extension": ".py",
   "mimetype": "text/x-python",
   "name": "python",
   "nbconvert_exporter": "python",
   "pygments_lexer": "ipython3",
   "version": "3.5.4"
  }
 },
 "nbformat": 4,
 "nbformat_minor": 0
}