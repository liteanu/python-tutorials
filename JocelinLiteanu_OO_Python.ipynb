{
 "cells": [
  {
   "cell_type": "markdown",
   "metadata": {
    "collapsed": false
   },
   "source": [
    "## Jocelin Liteanu - Object Oriented Python"
   ]
  },
  {
   "cell_type": "code",
   "execution_count": 28,
   "metadata": {
    "collapsed": false
   },
   "outputs": [
   ],
   "source": [
    "import numpy as np\n",
    "import pandas as pd\n",
    "\n",
    "from astropy import units as u\n",
    "from astropy import constants as const"
   ]
  },
  {
   "cell_type": "markdown",
   "metadata": {
    "collapsed": false
   },
   "source": [
    "### All calculations should be done in this cell!"
   ]
  },
  {
   "cell_type": "code",
   "execution_count": 44,
   "metadata": {
    "collapsed": false
   },
   "outputs": [
   ],
   "source": [
    "class SpaceRock(object):\n",
    "    \n",
    "    def __init__(self, name = None, ab_mag = None, albedo = None):\n",
    "        \n",
    "        self.name = name\n",
    "        self.ab_mag = ab_mag\n",
    "        self.albedo = albedo\n",
    "        \n",
    "    def diameter(self):\n",
    "        result = (1329.0 / np.sqrt(self.albedo)) * (10 ** (-0.2 * self.ab_mag))\n",
    "        return result * u.km\n",
    "    \n",
    "    def mass(self):\n",
    "        result = (3000 *u.kg/u.m**3 * np.divide(np.pi, 6)) * (self.diameter()**3)\n",
    "        return result.decompose()\n",
    "    \n",
    "    \n",
    "        "
   ]
  },
  {
   "cell_type": "markdown",
   "metadata": {
    "collapsed": false
   },
   "source": [
    "### Read in the datafile `./Data/MainBelt.csv`"
   ]
  },
  {
   "cell_type": "code",
   "execution_count": 30,
   "metadata": {
    "collapsed": false
   },
   "outputs": [
    {
     "name": "stdout",
     "output_type": "stream",
     "text": [
      "Data/MainBelt.csv\r\n"
     ]
    }
   ],
   "source": [
    "!ls Data/MainBelt.csv"
   ]
  },
  {
   "cell_type": "code",
   "execution_count": 31,
   "metadata": {
    "collapsed": false
   },
   "outputs": [
    {
     "name": "stderr",
     "output_type": "stream",
     "text": [
      "WARNING: Some output was deleted.\n"
     ]
    }
   ],
   "source": [
    "!cat Data/MainBelt.csv"
   ]
  },
  {
   "cell_type": "code",
   "execution_count": 45,
   "metadata": {
    "collapsed": false
   },
   "outputs": [
    {
     "data": {
      "text/html": [
       "<div>\n",
       "<style scoped>\n",
       "    .dataframe tbody tr th:only-of-type {\n",
       "        vertical-align: middle;\n",
       "    }\n",
       "\n",
       "    .dataframe tbody tr th {\n",
       "        vertical-align: top;\n",
       "    }\n",
       "\n",
       "    .dataframe thead th {\n",
       "        text-align: right;\n",
       "    }\n",
       "</style>\n",
       "<table border=\"1\" class=\"dataframe\">\n",
       "  <thead>\n",
       "    <tr style=\"text-align: right;\">\n",
       "      <th></th>\n",
       "      <th>Name</th>\n",
       "      <th>Magnitude</th>\n",
       "      <th>Albedo</th>\n",
       "    </tr>\n",
       "  </thead>\n",
       "  <tbody>\n",
       "    <tr>\n",
       "      <th>0</th>\n",
       "      <td>1 Ceres</td>\n",
       "      <td>3.34</td>\n",
       "      <td>0.0900</td>\n",
       "    </tr>\n",
       "    <tr>\n",
       "      <th>1</th>\n",
       "      <td>2 Pallas</td>\n",
       "      <td>4.13</td>\n",
       "      <td>0.1587</td>\n",
       "    </tr>\n",
       "    <tr>\n",
       "      <th>2</th>\n",
       "      <td>3 Juno</td>\n",
       "      <td>5.33</td>\n",
       "      <td>0.2383</td>\n",
       "    </tr>\n",
       "    <tr>\n",
       "      <th>3</th>\n",
       "      <td>4 Vesta</td>\n",
       "      <td>3.20</td>\n",
       "      <td>0.4228</td>\n",
       "    </tr>\n",
       "    <tr>\n",
       "      <th>4</th>\n",
       "      <td>5 Astraea</td>\n",
       "      <td>6.85</td>\n",
       "      <td>0.2268</td>\n",
       "    </tr>\n",
       "    <tr>\n",
       "      <th>5</th>\n",
       "      <td>6 Hebe</td>\n",
       "      <td>5.71</td>\n",
       "      <td>0.2679</td>\n",
       "    </tr>\n",
       "    <tr>\n",
       "      <th>6</th>\n",
       "      <td>7 Iris</td>\n",
       "      <td>5.51</td>\n",
       "      <td>0.2766</td>\n",
       "    </tr>\n",
       "    <tr>\n",
       "      <th>7</th>\n",
       "      <td>8 Flora</td>\n",
       "      <td>6.49</td>\n",
       "      <td>0.2426</td>\n",
       "    </tr>\n",
       "    <tr>\n",
       "      <th>8</th>\n",
       "      <td>9 Metis</td>\n",
       "      <td>6.28</td>\n",
       "      <td>0.1180</td>\n",
       "    </tr>\n",
       "    <tr>\n",
       "      <th>9</th>\n",
       "      <td>10 Hygiea</td>\n",
       "      <td>5.43</td>\n",
       "      <td>0.0717</td>\n",
       "    </tr>\n",
       "    <tr>\n",
       "      <th>10</th>\n",
       "      <td>11 Parthenope</td>\n",
       "      <td>6.55</td>\n",
       "      <td>0.1803</td>\n",
       "    </tr>\n",
       "    <tr>\n",
       "      <th>11</th>\n",
       "      <td>12 Victoria</td>\n",
       "      <td>7.24</td>\n",
       "      <td>0.1765</td>\n",
       "    </tr>\n",
       "    <tr>\n",
       "      <th>12</th>\n",
       "      <td>13 Egeria</td>\n",
       "      <td>6.74</td>\n",
       "      <td>0.0825</td>\n",
       "    </tr>\n",
       "    <tr>\n",
       "      <th>13</th>\n",
       "      <td>14 Irene</td>\n",
       "      <td>6.30</td>\n",
       "      <td>0.1590</td>\n",
       "    </tr>\n",
       "    <tr>\n",
       "      <th>14</th>\n",
       "      <td>15 Eunomia</td>\n",
       "      <td>5.28</td>\n",
       "      <td>0.2094</td>\n",
       "    </tr>\n",
       "    <tr>\n",
       "      <th>15</th>\n",
       "      <td>16 Psyche</td>\n",
       "      <td>5.90</td>\n",
       "      <td>0.1203</td>\n",
       "    </tr>\n",
       "    <tr>\n",
       "      <th>16</th>\n",
       "      <td>17 Thetis</td>\n",
       "      <td>7.76</td>\n",
       "      <td>0.1715</td>\n",
       "    </tr>\n",
       "    <tr>\n",
       "      <th>17</th>\n",
       "      <td>18 Melpomene</td>\n",
       "      <td>6.51</td>\n",
       "      <td>0.2225</td>\n",
       "    </tr>\n",
       "    <tr>\n",
       "      <th>18</th>\n",
       "      <td>19 Fortuna</td>\n",
       "      <td>7.13</td>\n",
       "      <td>0.0370</td>\n",
       "    </tr>\n",
       "    <tr>\n",
       "      <th>19</th>\n",
       "      <td>20 Massalia</td>\n",
       "      <td>6.50</td>\n",
       "      <td>0.2096</td>\n",
       "    </tr>\n",
       "    <tr>\n",
       "      <th>20</th>\n",
       "      <td>21 Lutetia</td>\n",
       "      <td>7.35</td>\n",
       "      <td>0.2212</td>\n",
       "    </tr>\n",
       "    <tr>\n",
       "      <th>21</th>\n",
       "      <td>22 Kalliope</td>\n",
       "      <td>6.45</td>\n",
       "      <td>0.1419</td>\n",
       "    </tr>\n",
       "    <tr>\n",
       "      <th>22</th>\n",
       "      <td>23 Thalia</td>\n",
       "      <td>6.95</td>\n",
       "      <td>0.2536</td>\n",
       "    </tr>\n",
       "    <tr>\n",
       "      <th>23</th>\n",
       "      <td>24 Themis</td>\n",
       "      <td>7.08</td>\n",
       "      <td>0.0670</td>\n",
       "    </tr>\n",
       "    <tr>\n",
       "      <th>24</th>\n",
       "      <td>25 Phocaea</td>\n",
       "      <td>7.83</td>\n",
       "      <td>0.2310</td>\n",
       "    </tr>\n",
       "    <tr>\n",
       "      <th>25</th>\n",
       "      <td>26 Proserpina</td>\n",
       "      <td>7.40</td>\n",
       "      <td>0.1966</td>\n",
       "    </tr>\n",
       "    <tr>\n",
       "      <th>26</th>\n",
       "      <td>27 Euterpe</td>\n",
       "      <td>7.00</td>\n",
       "      <td>0.1620</td>\n",
       "    </tr>\n",
       "    <tr>\n",
       "      <th>27</th>\n",
       "      <td>28 Bellona</td>\n",
       "      <td>7.09</td>\n",
       "      <td>0.1763</td>\n",
       "    </tr>\n",
       "    <tr>\n",
       "      <th>28</th>\n",
       "      <td>29 Amphitrite</td>\n",
       "      <td>5.85</td>\n",
       "      <td>0.1793</td>\n",
       "    </tr>\n",
       "    <tr>\n",
       "      <th>29</th>\n",
       "      <td>30 Urania</td>\n",
       "      <td>7.57</td>\n",
       "      <td>0.1714</td>\n",
       "    </tr>\n",
       "    <tr>\n",
       "      <th>...</th>\n",
       "      <td>...</td>\n",
       "      <td>...</td>\n",
       "      <td>...</td>\n",
       "    </tr>\n",
       "    <tr>\n",
       "      <th>1996</th>\n",
       "      <td>21792 (1999 ST7)</td>\n",
       "      <td>13.10</td>\n",
       "      <td>0.0554</td>\n",
       "    </tr>\n",
       "    <tr>\n",
       "      <th>1997</th>\n",
       "      <td>21967 (1999 WS9)</td>\n",
       "      <td>12.20</td>\n",
       "      <td>0.0690</td>\n",
       "    </tr>\n",
       "    <tr>\n",
       "      <th>1998</th>\n",
       "      <td>22097 (2000 BH4)</td>\n",
       "      <td>12.20</td>\n",
       "      <td>0.0317</td>\n",
       "    </tr>\n",
       "    <tr>\n",
       "      <th>1999</th>\n",
       "      <td>22147 (2000 WP32)</td>\n",
       "      <td>13.40</td>\n",
       "      <td>0.0292</td>\n",
       "    </tr>\n",
       "    <tr>\n",
       "      <th>2000</th>\n",
       "      <td>22464 (1997 AG14)</td>\n",
       "      <td>13.00</td>\n",
       "      <td>0.0828</td>\n",
       "    </tr>\n",
       "    <tr>\n",
       "      <th>2001</th>\n",
       "      <td>22805 (1999 RR2)</td>\n",
       "      <td>12.50</td>\n",
       "      <td>0.1352</td>\n",
       "    </tr>\n",
       "    <tr>\n",
       "      <th>2002</th>\n",
       "      <td>22955 (1999 TH251)</td>\n",
       "      <td>12.90</td>\n",
       "      <td>0.0304</td>\n",
       "    </tr>\n",
       "    <tr>\n",
       "      <th>2003</th>\n",
       "      <td>23059 Paulpaino (1999 XT45)</td>\n",
       "      <td>14.50</td>\n",
       "      <td>0.0146</td>\n",
       "    </tr>\n",
       "    <tr>\n",
       "      <th>2004</th>\n",
       "      <td>23099 (1999 XA160)</td>\n",
       "      <td>11.60</td>\n",
       "      <td>0.0443</td>\n",
       "    </tr>\n",
       "    <tr>\n",
       "      <th>2005</th>\n",
       "      <td>23103 (1999 XK169)</td>\n",
       "      <td>12.90</td>\n",
       "      <td>0.0436</td>\n",
       "    </tr>\n",
       "    <tr>\n",
       "      <th>2006</th>\n",
       "      <td>23129 (2000 AO100)</td>\n",
       "      <td>11.90</td>\n",
       "      <td>0.0601</td>\n",
       "    </tr>\n",
       "    <tr>\n",
       "      <th>2007</th>\n",
       "      <td>23167 (2000 GL124)</td>\n",
       "      <td>13.00</td>\n",
       "      <td>0.1437</td>\n",
       "    </tr>\n",
       "    <tr>\n",
       "      <th>2008</th>\n",
       "      <td>23956 (1998 VD9)</td>\n",
       "      <td>13.00</td>\n",
       "      <td>0.0531</td>\n",
       "    </tr>\n",
       "    <tr>\n",
       "      <th>2009</th>\n",
       "      <td>23977 (1999 GW6)</td>\n",
       "      <td>13.00</td>\n",
       "      <td>0.0425</td>\n",
       "    </tr>\n",
       "    <tr>\n",
       "      <th>2010</th>\n",
       "      <td>24013 (1999 RR113)</td>\n",
       "      <td>13.10</td>\n",
       "      <td>0.1282</td>\n",
       "    </tr>\n",
       "    <tr>\n",
       "      <th>2011</th>\n",
       "      <td>24035 (1999 SJ2)</td>\n",
       "      <td>14.10</td>\n",
       "      <td>0.0512</td>\n",
       "    </tr>\n",
       "    <tr>\n",
       "      <th>2012</th>\n",
       "      <td>24127 (1999 VZ52)</td>\n",
       "      <td>11.40</td>\n",
       "      <td>0.0851</td>\n",
       "    </tr>\n",
       "    <tr>\n",
       "      <th>2013</th>\n",
       "      <td>24388 (2000 AB175)</td>\n",
       "      <td>11.90</td>\n",
       "      <td>0.0374</td>\n",
       "    </tr>\n",
       "    <tr>\n",
       "      <th>2014</th>\n",
       "      <td>24980 (1998 KF2)</td>\n",
       "      <td>13.70</td>\n",
       "      <td>0.0871</td>\n",
       "    </tr>\n",
       "    <tr>\n",
       "      <th>2015</th>\n",
       "      <td>25000 Astrometria (1998 OW5)</td>\n",
       "      <td>12.60</td>\n",
       "      <td>0.0311</td>\n",
       "    </tr>\n",
       "    <tr>\n",
       "      <th>2016</th>\n",
       "      <td>25343 (1999 RA44)</td>\n",
       "      <td>14.20</td>\n",
       "      <td>0.0252</td>\n",
       "    </tr>\n",
       "    <tr>\n",
       "      <th>2017</th>\n",
       "      <td>25453 (1999 XU11)</td>\n",
       "      <td>12.50</td>\n",
       "      <td>0.0957</td>\n",
       "    </tr>\n",
       "    <tr>\n",
       "      <th>2018</th>\n",
       "      <td>25699 (2000 AD127)</td>\n",
       "      <td>12.60</td>\n",
       "      <td>0.0346</td>\n",
       "    </tr>\n",
       "    <tr>\n",
       "      <th>2019</th>\n",
       "      <td>25785 (2000 CY45)</td>\n",
       "      <td>13.40</td>\n",
       "      <td>0.0238</td>\n",
       "    </tr>\n",
       "    <tr>\n",
       "      <th>2020</th>\n",
       "      <td>25843 (2000 EQ84)</td>\n",
       "      <td>13.30</td>\n",
       "      <td>0.0167</td>\n",
       "    </tr>\n",
       "    <tr>\n",
       "      <th>2021</th>\n",
       "      <td>26125 (1992 RG)</td>\n",
       "      <td>13.00</td>\n",
       "      <td>0.0975</td>\n",
       "    </tr>\n",
       "    <tr>\n",
       "      <th>2022</th>\n",
       "      <td>26171 (1996 BY2)</td>\n",
       "      <td>14.00</td>\n",
       "      <td>0.0480</td>\n",
       "    </tr>\n",
       "    <tr>\n",
       "      <th>2023</th>\n",
       "      <td>26260 (1998 RA2)</td>\n",
       "      <td>13.30</td>\n",
       "      <td>0.0670</td>\n",
       "    </tr>\n",
       "    <tr>\n",
       "      <th>2024</th>\n",
       "      <td>26604 (2000 FO25)</td>\n",
       "      <td>12.80</td>\n",
       "      <td>0.4331</td>\n",
       "    </tr>\n",
       "    <tr>\n",
       "      <th>2025</th>\n",
       "      <td>26662 (2000 WB181)</td>\n",
       "      <td>14.50</td>\n",
       "      <td>0.0186</td>\n",
       "    </tr>\n",
       "  </tbody>\n",
       "</table>\n",
       "<p>2026 rows × 3 columns</p>\n",
       "</div>"
      ]
     },
     "execution_count": 45,
     "metadata": {
     },
     "output_type": "execute_result"
    }
   ],
   "source": [
    "cols = [\"Name\", \"Magnitude\", \"Albedo\"]\n",
    "\n",
    "data_table = pd.read_csv('./Data/MainBelt.csv', comment = \"#\", header = None, names = cols)\n",
    "data_table"
   ]
  },
  {
   "cell_type": "code",
   "execution_count": 46,
   "metadata": {
    "collapsed": false
   },
   "outputs": [
   ],
   "source": [
    "my_name = data_table['Name'].values\n",
    "my_ab_mag = data_table['Magnitude'].values\n",
    "my_albedo = data_table['Albedo'].values\n",
    "\n",
    "rocks = SpaceRock(name=my_name,\n",
    "                  ab_mag=my_ab_mag,\n",
    "                  albedo=my_albedo)"
   ]
  },
  {
   "cell_type": "code",
   "execution_count": 47,
   "metadata": {
    "collapsed": false
   },
   "outputs": [
    {
     "data": {
      "text/latex": [
       "$[951.4889,~498.00823,~233.86378,~\\dots,~11.232788,~5.5619988,~12.267851] \\; \\mathrm{km}$"
      ]
     },
     "execution_count": 47,
     "metadata": {
     },
     "output_type": "execute_result"
    }
   ],
   "source": [
    "rocks.diameter()"
   ]
  },
  {
   "cell_type": "code",
   "execution_count": 48,
   "metadata": {
    "collapsed": false
   },
   "outputs": [
    {
     "data": {
      "text/latex": [
       "$[1.3531036 \\times 10^{21},~1.9401237 \\times 10^{20},~2.0091333 \\times 10^{19},~\\dots,~2.2262945 \\times 10^{15},~2.7027915 \\times 10^{14},~2.900183 \\times 10^{15}] \\; \\mathrm{kg}$"
      ]
     },
     "execution_count": 48,
     "metadata": {
     },
     "output_type": "execute_result"
    }
   ],
   "source": [
    "rocks.mass()"
   ]
  },
  {
   "cell_type": "code",
   "execution_count": 71,
   "metadata": {
    "collapsed": false
   },
   "outputs": [
    {
     "data": {
      "text/latex": [
       "$[1.3531036 \\times 10^{21},~1.9401237 \\times 10^{20},~2.0091333 \\times 10^{19},~1.6124726 \\times 10^{20}] \\; \\mathrm{kg}$"
      ]
     },
     "execution_count": 71,
     "metadata": {
     },
     "output_type": "execute_result"
    }
   ],
   "source": [
    "rocks.mass()[0:4]"
   ]
  },
  {
   "cell_type": "code",
   "execution_count": 141,
   "metadata": {
    "collapsed": false
   },
   "outputs": [
    {
     "data": {
      "text/latex": [
       "$[2.7027915 \\times 10^{14},~1.3958314 \\times 10^{15},~1.919499 \\times 10^{15},~2.2262945 \\times 10^{15},~2.900183 \\times 10^{15}] \\; \\mathrm{kg}$"
      ]
     },
     "execution_count": 141,
     "metadata": {
     },
     "output_type": "execute_result"
    }
   ],
   "source": [
    "more_rocks = np.sort(rocks.mass()[-5:])\n",
    "more_rocks"
   ]
  },
  {
   "cell_type": "markdown",
   "metadata": {
    "collapsed": false
   },
   "source": [
    "## List the names of the 5 most massive MBAs\n",
    "\n",
    " * Only formatting and output - no calculations!\n",
    " * Make sure you use units.\n",
    " * Express your answer in SI units with 2 digits after the decimal.\n",
    " * The output should be a series of lines like:\n",
    "   * `At number N is NAME with a mass of MASS kg`"
   ]
  },
  {
   "cell_type": "code",
   "execution_count": 142,
   "metadata": {
    "collapsed": false
   },
   "outputs": [
    {
     "name": "stdout",
     "output_type": "stream",
     "text": [
      "At number 1, is      1 Ceres, with a mass of 270279149887835.84 kg\n",
      "At number 2, is      2 Pallas, with a mass of 1395831400001323.75 kg\n",
      "At number 3, is      3 Juno, with a mass of 1919499027010081.25 kg\n",
      "At number 4, is      4 Vesta, with a mass of 2226294512353730.00 kg\n",
      "At number 5, is      5 Astraea, with a mass of 2900183006796756.00 kg\n"
     ]
    }
   ],
   "source": [
    "for idx,value in enumerate(np.sort(rocks.mass()[-5:])):\n",
    "    \n",
    "    rock_name = rocks.name[idx]\n",
    "    \n",
    "    my_string = (\"At number {0:d}, is {1}, with a mass of {2:.2f}\"\n",
    "                .format(idx+1,rock_name,value))\n",
    "   \n",
    "    print(my_string)"
   ]
  },
  {
   "cell_type": "markdown",
   "metadata": {
    "collapsed": false
   },
   "source": [
    "## Due Wed Jan 31 - Noon\n",
    "- `Make sure to change the filename to your name!`\n",
    "- `Make sure to change the Title to your name!`"
   ]
  }
 ],
 "metadata": {
  "kernelspec": {
   "display_name": "Python 3 (Anaconda)",
   "language": "python",
   "name": "anaconda3"
  },
  "language_info": {
   "codemirror_mode": {
    "name": "ipython",
    "version": 3
   },
   "file_extension": ".py",
   "mimetype": "text/x-python",
   "name": "python",
   "nbconvert_exporter": "python",
   "pygments_lexer": "ipython3",
   "version": "3.5.4"
  }
 },
 "nbformat": 4,
 "nbformat_minor": 0
}