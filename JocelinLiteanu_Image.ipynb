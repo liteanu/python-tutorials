{
 "cells": [
  {
   "cell_type": "markdown",
   "metadata": {
    "collapsed": false
   },
   "source": [
    "## Jocelin Liteanu - Image"
   ]
  },
  {
   "cell_type": "code",
   "execution_count": 1,
   "metadata": {
    "collapsed": false
   },
   "outputs": [
   ],
   "source": [
    "%matplotlib inline\n",
    "\n",
    "import numpy as np\n",
    "import matplotlib.pyplot as plt\n",
    "\n",
    "import astropy.io.fits as fits\n",
    "\n",
    "from astropy.wcs import WCS\n",
    "from astropy.visualization import make_lupton_rgb\n",
    "from astropy import stats"
   ]
  },
  {
   "cell_type": "markdown",
   "metadata": {
    "collapsed": false
   },
   "source": [
    "# Digitized Sky Survey (DSS)"
   ]
  },
  {
   "cell_type": "markdown",
   "metadata": {
    "collapsed": false
   },
   "source": [
    "The Digitized Sky Survey is a multiwavelength survey of the sky produced by scanning the photographic Sky Survey plates from the Palomar and UK Schmidt telescopes.\n",
    "\n",
    "You can download images from the [ESO Online Digitized Sky Survey](http://archive.eso.org/dss/dss).\n",
    "\n",
    "Download the files to your local computer, then click \"New\" (upper left corner) and upload files to CoCalc."
   ]
  },
  {
   "cell_type": "markdown",
   "metadata": {
    "collapsed": false
   },
   "source": [
    "## Part 1:"
   ]
  },
  {
   "cell_type": "markdown",
   "metadata": {
    "collapsed": false
   },
   "source": [
    "- Download a 15 arcmin x 15 acrmin DSS-2-blue FITS image near the [North Galactic Pole](https://en.wikipedia.org/wiki/Galactic_coordinate_system)\n",
    "\n",
    "- Download a 15 arcmin x 15 acrmin DSS-2-red FITS image near the [Galactic Center](https://en.wikipedia.org/wiki/Galactic_coordinate_system)\n",
    "\n",
    "* Plot the two images with coordinates\n",
    "* Plot a 7-sigma cut of each of the images\n",
    "* The images should be nice with labels"
   ]
  },
  {
   "cell_type": "code",
   "execution_count": 2,
   "metadata": {
    "collapsed": false
   },
   "outputs": [
   ],
   "source": [
    "north_blue = \"./dss2.north.fits\"\n",
    "north_blue = fits.open(north_blue)"
   ]
  },
  {
   "cell_type": "code",
   "execution_count": 3,
   "metadata": {
    "collapsed": false
   },
   "outputs": [
   ],
   "source": [
    "center_red = \"./dss2.center.fits\"\n",
    "center_red = fits.open(center_red)"
   ]
  },
  {
   "cell_type": "code",
   "execution_count": 4,
   "metadata": {
    "collapsed": false
   },
   "outputs": [
   ],
   "source": [
    "north_data = north_blue[0].data\n",
    "north_header = north_blue[0].header"
   ]
  },
  {
   "cell_type": "code",
   "execution_count": 5,
   "metadata": {
    "collapsed": false
   },
   "outputs": [
   ],
   "source": [
    "center_data = center_red[0].data\n",
    "center_header = center_red[0].header"
   ]
  },
  {
   "cell_type": "code",
   "execution_count": 6,
   "metadata": {
    "collapsed": false
   },
   "outputs": [
   ],
   "source": [
    "clip_north = stats.sigma_clip(north_data, sigma=7, iters=5) "
   ]
  },
  {
   "cell_type": "code",
   "execution_count": 7,
   "metadata": {
    "collapsed": false
   },
   "outputs": [
   ],
   "source": [
    "clip_center = stats.sigma_clip(center_data, sigma=7, iters=5)"
   ]
  },
  {
   "cell_type": "code",
   "execution_count": 8,
   "metadata": {
    "collapsed": false
   },
   "outputs": [
   ],
   "source": [
    "copy_data_north = np.copy(north_data)        \n",
    "\n",
    "copy_data_north[~clip_north.mask] = north_data.min()"
   ]
  },
  {
   "cell_type": "code",
   "execution_count": 9,
   "metadata": {
    "collapsed": false
   },
   "outputs": [
   ],
   "source": [
    "copy_data_center = np.copy(center_data)        \n",
    "\n",
    "copy_data_center[~clip_center.mask] = center_data.min()"
   ]
  },
  {
   "cell_type": "code",
   "execution_count": 10,
   "metadata": {
    "collapsed": false
   },
   "outputs": [
    {
     "data": {
      "text/plain": [
       "Text(81.125,0.5,'Y')"
      ]
     },
     "execution_count": 10,
     "metadata": {
     },
     "output_type": "execute_result"
    },
    {
     "data": {
      "image/png": "[encoded data removed]"
     },
     "output_type": "execute_result"
    }
   ],
   "source": [
    "fig, ax = plt.subplots(1,2)\n",
    "\n",
    "fig.set_size_inches(12,6)\n",
    "\n",
    "fig.tight_layout()\n",
    "\n",
    "ax[0].imshow(center_data, origin='lower', cmap=plt.cm.gray)\n",
    "ax[1].imshow(copy_data_center, origin='lower', cmap=plt.cm.gray)\n",
    "\n",
    "ax[1].set_xlabel('X')\n",
    "ax[1].set_ylabel('Y')\n",
    "\n",
    "\n",
    "ax[0].set_xlabel('X')\n",
    "ax[0].set_ylabel('Y')"
   ]
  },
  {
   "cell_type": "code",
   "execution_count": 11,
   "metadata": {
    "collapsed": false
   },
   "outputs": [
    {
     "data": {
      "text/plain": [
       "Text(81.125,0.5,'Y')"
      ]
     },
     "execution_count": 11,
     "metadata": {
     },
     "output_type": "execute_result"
    },
    {
     "data": {
      "image/png": "[encoded data removed]"
     },
     "output_type": "execute_result"
    }
   ],
   "source": [
    "fig, ax = plt.subplots(1,2)\n",
    "\n",
    "fig.set_size_inches(12,6)\n",
    "\n",
    "fig.tight_layout()\n",
    "\n",
    "ax[0].imshow(north_data, origin='lower', cmap=plt.cm.gray)\n",
    "ax[1].imshow(copy_data_north, origin='lower', cmap=plt.cm.gray)\n",
    "\n",
    "ax[1].set_xlabel('X')\n",
    "ax[1].set_ylabel('Y')\n",
    "\n",
    "\n",
    "ax[0].set_xlabel('X')\n",
    "ax[0].set_ylabel('Y')"
   ]
  },
  {
   "cell_type": "markdown",
   "metadata": {
    "collapsed": false
   },
   "source": [
    "## Part 2:"
   ]
  },
  {
   "cell_type": "markdown",
   "metadata": {
    "collapsed": false
   },
   "source": [
    "- Pick a cool [Messier object](https://en.wikipedia.org/wiki/List_of_Messier_objects) with Declination  > 0.\n",
    "- Or, any astromonical object with Dec > 0.\n",
    "\n",
    "* Download a DSS-2-infrared, DSS-2-red, and DSS-2-blue FITS images for the object.\n",
    "\n",
    "  * Use \"Display as GIF file\" to preview your image.\n",
    "  * Adjust the \"Image Size\" to get the whole object.\n",
    "  * If you get an \"Internal Server Error\" that means that filter is not available.\n",
    "\n",
    "- Create a pseudocolor RGB image from:\n",
    "\n",
    "  * red = DSS-2-infrared\n",
    "  * green = DSS-2-red\n",
    "  * blue = DSS-2-blue\n",
    "\n",
    "\n",
    "- You will have to experiment with the `stretch` to get a good image\n",
    "- The image should be 10in x 10in, with labels."
   ]
  },
  {
   "cell_type": "code",
   "execution_count": 12,
   "metadata": {
    "collapsed": false
   },
   "outputs": [
   ],
   "source": [
    "from astropy.visualization import make_lupton_rgb"
   ]
  },
  {
   "cell_type": "code",
   "execution_count": 13,
   "metadata": {
    "collapsed": false
   },
   "outputs": [
   ],
   "source": [
    "red_img = fits.getdata(\"./dss2.infrared.fits\").astype(float)\n",
    "green_img = fits.getdata(\"./dss2.red.fits\").astype(float)\n",
    "blue_img= fits.getdata(\"./dss2.blue.fits\").astype(float)"
   ]
  },
  {
   "cell_type": "code",
   "execution_count": 14,
   "metadata": {
    "collapsed": false
   },
   "outputs": [
    {
     "data": {
      "text/plain": [
       "((893, 891), (893, 891), (893, 891))"
      ]
     },
     "execution_count": 14,
     "metadata": {
     },
     "output_type": "execute_result"
    }
   ],
   "source": [
    "red_img.shape, green_img.shape, blue_img.shape #all the same size!"
   ]
  },
  {
   "cell_type": "code",
   "execution_count": 15,
   "metadata": {
    "collapsed": false
   },
   "outputs": [
    {
     "data": {
      "image/png": "[encoded data removed]"
     },
     "output_type": "execute_result"
    }
   ],
   "source": [
    "fig, ax = plt.subplots(1,1)\n",
    "fig.set_size_inches(10,10)\n",
    "\n",
    "fig.tight_layout()\n",
    "\n",
    "ax.hist(red_img.flatten(),bins=50, color='r')\n",
    "ax.hist(green_img.flatten(),bins=50, color='g')\n",
    "ax.hist(blue_img.flatten(),bins=50, color='b');"
   ]
  },
  {
   "cell_type": "code",
   "execution_count": 16,
   "metadata": {
    "collapsed": false
   },
   "outputs": [
   ],
   "source": [
    "clean_r =  red_img - red_img.mean()\n",
    "clean_g =  green_img - green_img.mean()\n",
    "clean_b =  blue_img - blue_img.mean()"
   ]
  },
  {
   "cell_type": "code",
   "execution_count": 17,
   "metadata": {
    "collapsed": false
   },
   "outputs": [
    {
     "data": {
      "image/png": "[encoded data removed]"
     },
     "output_type": "execute_result"
    }
   ],
   "source": [
    "fig, ax = plt.subplots(1,1)\n",
    "fig.set_size_inches(10,10)\n",
    "\n",
    "fig.tight_layout()\n",
    "\n",
    "ax.hist(clean_r.flatten(),bins=50, color='r')\n",
    "ax.hist(clean_g.flatten(),bins=50, color='g')\n",
    "ax.hist(clean_b.flatten(),bins=50, color='b');"
   ]
  },
  {
   "cell_type": "code",
   "execution_count": 18,
   "metadata": {
    "collapsed": false
   },
   "outputs": [
    {
     "data": {
      "image/png": "[encoded data removed]"
     },
     "output_type": "execute_result"
    }
   ],
   "source": [
    "fig, ax = plt.subplots(1,1)\n",
    "fig.set_size_inches(10,10)\n",
    "\n",
    "fig.tight_layout()\n",
    "\n",
    "ax.set_ylim(0,3000)\n",
    "\n",
    "ax.hist(clean_b.flatten(),bins=50, color='b')\n",
    "ax.hist(clean_g.flatten(),bins=50, color='g')\n",
    "ax.hist(clean_r.flatten(),bins=50, color='r');"
   ]
  },
  {
   "cell_type": "code",
   "execution_count": 19,
   "metadata": {
    "collapsed": false
   },
   "outputs": [
    {
     "data": {
      "image/png": "[encoded data removed]"
     },
     "output_type": "execute_result"
    }
   ],
   "source": [
    "fig, ax = plt.subplots(1,3)\n",
    "\n",
    "fig.set_size_inches(10,10)\n",
    "\n",
    "fig.tight_layout()\n",
    "\n",
    "ax[0].set_title(\"R\")\n",
    "ax[1].set_title(\"G\")\n",
    "ax[2].set_title(\"B\")\n",
    "\n",
    "ax[0].imshow(clean_r, origin='lower', cmap=plt.cm.gray)\n",
    "ax[1].imshow(clean_g, origin='lower', cmap=plt.cm.gray);\n",
    "ax[2].imshow(clean_b, origin='lower', cmap=plt.cm.gray);"
   ]
  },
  {
   "cell_type": "markdown",
   "metadata": {
    "collapsed": false
   },
   "source": [
    "## Part 3"
   ]
  },
  {
   "cell_type": "markdown",
   "metadata": {
    "collapsed": false
   },
   "source": [
    "Next week we are going to use an online interface to the LaTeX scientific typesetting system.\n",
    "\n",
    "To do this, you will need to sign up for a free account on the ShareLaTeX system before the next class.\n",
    "\n",
    "* Remember your account name and password, we will use them during class. \n",
    "\n",
    "* Please use the following link to sign up for the system: https://www.sharelatex.com?r=f33161ec&rm=d&rs=b "
   ]
  },
  {
   "cell_type": "markdown",
   "metadata": {
    "collapsed": false
   },
   "source": [
    "### Due Mon Feb 26 - Noon\n",
    "\n",
    "- `Make sure to change the filename to your name!`\n",
    "- `Make sure to change the Title to your name!`"
   ]
  }
 ],
 "metadata": {
  "anaconda-cloud": {
  },
  "kernelspec": {
   "display_name": "Python 3 (system-wide)",
   "language": "python",
   "metadata": {
    "cocalc": {
     "description": "Python 3 programming language",
     "priority": 100,
     "url": "https://www.python.org/"
    }
   },
   "name": "python3"
  },
  "language_info": {
   "codemirror_mode": {
    "name": "ipython",
    "version": 3
   },
   "file_extension": ".py",
   "mimetype": "text/x-python",
   "name": "python",
   "nbconvert_exporter": "python",
   "pygments_lexer": "ipython3",
   "version": "3.6.9"
  }
 },
 "nbformat": 4,
 "nbformat_minor": 4
}