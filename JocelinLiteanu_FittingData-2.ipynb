{
 "cells": [
  {
   "cell_type": "markdown",
   "metadata": {},
   "source": [
    "# Jocelin Liteanu - Fitting Data"
   ]
  },
  {
   "cell_type": "code",
   "execution_count": 11,
   "metadata": {},
   "outputs": [],
   "source": [
    "%matplotlib inline\n",
    "import matplotlib.pyplot as plt\n",
    "\n",
    "import numpy as np\n",
    "import pandas as pd\n",
    "\n",
    "from scipy.optimize import curve_fit"
   ]
  },
  {
   "cell_type": "markdown",
   "metadata": {},
   "source": [
    "# Power on the Moon\n",
    "\n",
    "<img src=\"images/ApolloRTG.jpg\" alt=\"Apollo_ALSEP_RTG\" style=\"width: 500px;\"/>\n",
    "\n",
    "The Apollo lunar mission deployed a series of experiments on the Moon, The experiment package\n",
    "was called the Apollo Lunar Surface Experiments Package (ALSEP). The ALSEP was powered by a radioisotope \n",
    "thermoelectric generator (RTG). \n",
    "\n",
    "An RTG is basically a fist-sized\n",
    "slug of Pu-238 wrapped in a material that generates electric power when heated. Since the RTG is powered\n",
    "by a radioisotope, the output power decreases over time as the radioisotope decays."
   ]
  },
  {
   "cell_type": "markdown",
   "metadata": {},
   "source": [
    "## Read in the datafile\n",
    "\n",
    "The data file `/Data/Apollo_RTG.csv` contains the power output of the Apollo 12 RTG as a function of time.\n",
    "\n",
    "The data colunms are\n",
    "\n",
    "* [Day] - Days on the Moon\n",
    "* [Power] - RTG power output in Watts"
   ]
  },
  {
   "cell_type": "code",
   "execution_count": 12,
   "metadata": {},
   "outputs": [
    {
     "data": {
      "text/html": [
       "<div>\n",
       "<style scoped>\n",
       "    .dataframe tbody tr th:only-of-type {\n",
       "        vertical-align: middle;\n",
       "    }\n",
       "\n",
       "    .dataframe tbody tr th {\n",
       "        vertical-align: top;\n",
       "    }\n",
       "\n",
       "    .dataframe thead th {\n",
       "        text-align: right;\n",
       "    }\n",
       "</style>\n",
       "<table border=\"1\" class=\"dataframe\">\n",
       "  <thead>\n",
       "    <tr style=\"text-align: right;\">\n",
       "      <th></th>\n",
       "      <th>Day</th>\n",
       "      <th>Power</th>\n",
       "    </tr>\n",
       "  </thead>\n",
       "  <tbody>\n",
       "    <tr>\n",
       "      <th>0</th>\n",
       "      <td>34.4342</td>\n",
       "      <td>73.786264</td>\n",
       "    </tr>\n",
       "    <tr>\n",
       "      <th>1</th>\n",
       "      <td>151.3030</td>\n",
       "      <td>73.454312</td>\n",
       "    </tr>\n",
       "    <tr>\n",
       "      <th>2</th>\n",
       "      <td>297.2840</td>\n",
       "      <td>72.385425</td>\n",
       "    </tr>\n",
       "    <tr>\n",
       "      <th>3</th>\n",
       "      <td>443.4230</td>\n",
       "      <td>72.297457</td>\n",
       "    </tr>\n",
       "    <tr>\n",
       "      <th>4</th>\n",
       "      <td>584.6110</td>\n",
       "      <td>71.719237</td>\n",
       "    </tr>\n",
       "    <tr>\n",
       "      <th>5</th>\n",
       "      <td>740.4550</td>\n",
       "      <td>71.385625</td>\n",
       "    </tr>\n",
       "    <tr>\n",
       "      <th>6</th>\n",
       "      <td>886.5410</td>\n",
       "      <td>70.970684</td>\n",
       "    </tr>\n",
       "    <tr>\n",
       "      <th>7</th>\n",
       "      <td>1042.2800</td>\n",
       "      <td>69.983126</td>\n",
       "    </tr>\n",
       "    <tr>\n",
       "      <th>8</th>\n",
       "      <td>1188.2900</td>\n",
       "      <td>69.077725</td>\n",
       "    </tr>\n",
       "    <tr>\n",
       "      <th>9</th>\n",
       "      <td>1222.2800</td>\n",
       "      <td>68.422327</td>\n",
       "    </tr>\n",
       "    <tr>\n",
       "      <th>10</th>\n",
       "      <td>1280.6800</td>\n",
       "      <td>68.011120</td>\n",
       "    </tr>\n",
       "    <tr>\n",
       "      <th>11</th>\n",
       "      <td>1314.6500</td>\n",
       "      <td>67.192235</td>\n",
       "    </tr>\n",
       "    <tr>\n",
       "      <th>12</th>\n",
       "      <td>1373.0800</td>\n",
       "      <td>67.026259</td>\n",
       "    </tr>\n",
       "    <tr>\n",
       "      <th>13</th>\n",
       "      <td>1436.3200</td>\n",
       "      <td>66.451359</td>\n",
       "    </tr>\n",
       "    <tr>\n",
       "      <th>14</th>\n",
       "      <td>1494.6400</td>\n",
       "      <td>65.549693</td>\n",
       "    </tr>\n",
       "    <tr>\n",
       "      <th>15</th>\n",
       "      <td>1582.1100</td>\n",
       "      <td>64.238065</td>\n",
       "    </tr>\n",
       "    <tr>\n",
       "      <th>16</th>\n",
       "      <td>1645.3100</td>\n",
       "      <td>63.417935</td>\n",
       "    </tr>\n",
       "    <tr>\n",
       "      <th>17</th>\n",
       "      <td>1703.6800</td>\n",
       "      <td>62.843242</td>\n",
       "    </tr>\n",
       "    <tr>\n",
       "      <th>18</th>\n",
       "      <td>1786.3700</td>\n",
       "      <td>62.022282</td>\n",
       "    </tr>\n",
       "    <tr>\n",
       "      <th>19</th>\n",
       "      <td>1878.7600</td>\n",
       "      <td>60.955677</td>\n",
       "    </tr>\n",
       "    <tr>\n",
       "      <th>20</th>\n",
       "      <td>1941.9200</td>\n",
       "      <td>59.890317</td>\n",
       "    </tr>\n",
       "    <tr>\n",
       "      <th>21</th>\n",
       "      <td>2000.2500</td>\n",
       "      <td>59.070395</td>\n",
       "    </tr>\n",
       "    <tr>\n",
       "      <th>22</th>\n",
       "      <td>2019.6800</td>\n",
       "      <td>58.742592</td>\n",
       "    </tr>\n",
       "    <tr>\n",
       "      <th>23</th>\n",
       "      <td>2053.6900</td>\n",
       "      <td>58.168936</td>\n",
       "    </tr>\n",
       "    <tr>\n",
       "      <th>24</th>\n",
       "      <td>2112.0300</td>\n",
       "      <td>57.430757</td>\n",
       "    </tr>\n",
       "    <tr>\n",
       "      <th>25</th>\n",
       "      <td>2136.2600</td>\n",
       "      <td>56.612286</td>\n",
       "    </tr>\n",
       "    <tr>\n",
       "      <th>26</th>\n",
       "      <td>2194.6000</td>\n",
       "      <td>55.874107</td>\n",
       "    </tr>\n",
       "    <tr>\n",
       "      <th>27</th>\n",
       "      <td>2228.5900</td>\n",
       "      <td>55.136965</td>\n",
       "    </tr>\n",
       "    <tr>\n",
       "      <th>28</th>\n",
       "      <td>2262.6500</td>\n",
       "      <td>54.890283</td>\n",
       "    </tr>\n",
       "    <tr>\n",
       "      <th>29</th>\n",
       "      <td>2296.6800</td>\n",
       "      <td>54.480114</td>\n",
       "    </tr>\n",
       "    <tr>\n",
       "      <th>30</th>\n",
       "      <td>2325.8300</td>\n",
       "      <td>53.988409</td>\n",
       "    </tr>\n",
       "    <tr>\n",
       "      <th>31</th>\n",
       "      <td>2345.1600</td>\n",
       "      <td>53.006660</td>\n",
       "    </tr>\n",
       "    <tr>\n",
       "      <th>32</th>\n",
       "      <td>2408.3600</td>\n",
       "      <td>52.186530</td>\n",
       "    </tr>\n",
       "    <tr>\n",
       "      <th>33</th>\n",
       "      <td>2432.6600</td>\n",
       "      <td>51.776776</td>\n",
       "    </tr>\n",
       "    <tr>\n",
       "      <th>34</th>\n",
       "      <td>2461.7800</td>\n",
       "      <td>51.121585</td>\n",
       "    </tr>\n",
       "    <tr>\n",
       "      <th>35</th>\n",
       "      <td>2485.9700</td>\n",
       "      <td>50.057884</td>\n",
       "    </tr>\n",
       "    <tr>\n",
       "      <th>36</th>\n",
       "      <td>2510.2200</td>\n",
       "      <td>49.402900</td>\n",
       "    </tr>\n",
       "    <tr>\n",
       "      <th>37</th>\n",
       "      <td>2573.4500</td>\n",
       "      <td>48.746257</td>\n",
       "    </tr>\n",
       "    <tr>\n",
       "      <th>38</th>\n",
       "      <td>2597.7200</td>\n",
       "      <td>48.254760</td>\n",
       "    </tr>\n",
       "    <tr>\n",
       "      <th>39</th>\n",
       "      <td>2621.8600</td>\n",
       "      <td>46.864086</td>\n",
       "    </tr>\n",
       "    <tr>\n",
       "      <th>40</th>\n",
       "      <td>2655.8400</td>\n",
       "      <td>46.126944</td>\n",
       "    </tr>\n",
       "    <tr>\n",
       "      <th>41</th>\n",
       "      <td>2684.9600</td>\n",
       "      <td>45.471753</td>\n",
       "    </tr>\n",
       "    <tr>\n",
       "      <th>42</th>\n",
       "      <td>3063.3400</td>\n",
       "      <td>35.482887</td>\n",
       "    </tr>\n",
       "    <tr>\n",
       "      <th>43</th>\n",
       "      <td>3320.3200</td>\n",
       "      <td>27.951507</td>\n",
       "    </tr>\n",
       "    <tr>\n",
       "      <th>44</th>\n",
       "      <td>3528.7500</td>\n",
       "      <td>21.403122</td>\n",
       "    </tr>\n",
       "    <tr>\n",
       "      <th>45</th>\n",
       "      <td>3635.4000</td>\n",
       "      <td>18.128825</td>\n",
       "    </tr>\n",
       "  </tbody>\n",
       "</table>\n",
       "</div>"
      ]
     },
     "execution_count": 12,
     "metadata": {},
     "output_type": "execute_result"
    }
   ],
   "source": [
    "my_data1 = pd.read_csv('./Data/Apollo_RTG.csv')\n",
    "my_data1"
   ]
  },
  {
   "cell_type": "markdown",
   "metadata": {},
   "source": [
    "## Can you charge your phone with the Apollo RTG?\n",
    "\n",
    "* Plot the data: Day vs. Power\n",
    "* Use the OO interface to matplotlib\n",
    "* Fit the function with a polynomial (you choose the degree).\n",
    "* Plot the fit with the data\n",
    "- Output size w:11in, h:8.5in\n",
    "- Make the plot look nice (including clear labels)"
   ]
  },
  {
   "cell_type": "code",
   "execution_count": 13,
   "metadata": {},
   "outputs": [
    {
     "data": {
      "image/png": "[encoded data removed]"
     },
     "execution_count": 13,
     "metadata": {
      "image/png": {
       "height": 615,
       "width": 789
      }
     },
     "output_type": "execute_result"
    }
   ],
   "source": [
    "fig,ax = plt.subplots(1,1)\n",
    "fig.set_size_inches(11,8.5)\n",
    "\n",
    "fig.tight_layout()\n",
    "\n",
    "ax.set_xlabel(\"Day\")\n",
    "ax.set_ylabel(\"Power\")\n",
    "\n",
    "\n",
    "\n",
    "ax.plot(my_data1['Day'],my_data1['Power'],marker=\"o\",linestyle=\"None\",markersize=10);"
   ]
  },
  {
   "cell_type": "code",
   "execution_count": 14,
   "metadata": {},
   "outputs": [
    {
     "data": {
      "text/plain": [
       "array([ -4.97341722e-06,   3.42496459e-03,   7.20699442e+01])"
      ]
     },
     "execution_count": 14,
     "metadata": {},
     "output_type": "execute_result"
    }
   ],
   "source": [
    "my_fit1 = np.polyfit(my_data1['Day'],my_data1['Power'],2)\n",
    "\n",
    "my_fit1"
   ]
  },
  {
   "cell_type": "code",
   "execution_count": 15,
   "metadata": {},
   "outputs": [],
   "source": [
    "my_yfit1 = np.polyval(my_fit1,my_data1['Day'])"
   ]
  },
  {
   "cell_type": "code",
   "execution_count": 16,
   "metadata": {},
   "outputs": [
    {
     "data": {
      "image/png": "[encoded data removed]"
     },
     "execution_count": 16,
     "metadata": {
      "image/png": {
       "height": 615,
       "width": 789
      }
     },
     "output_type": "execute_result"
    }
   ],
   "source": [
    "fig,ax = plt.subplots(1,1)\n",
    "fig.set_size_inches(11,8.5)\n",
    "\n",
    "fig.tight_layout()\n",
    "\n",
    "ax.set_xlabel(\"Day\")\n",
    "ax.set_ylabel(\"Power\")\n",
    "\n",
    "ax.plot(my_data1['Day'], my_yfit1, linewidth=5, color='y', linestyle='--');\n",
    "ax.plot(my_data1['Day'], my_data1['Power'], marker=\"o\", linestyle=\"None\", markersize=10);"
   ]
  },
  {
   "cell_type": "markdown",
   "metadata": {},
   "source": [
    "## What was the power output on Day 0?"
   ]
  },
  {
   "cell_type": "code",
   "execution_count": 17,
   "metadata": {},
   "outputs": [],
   "source": [
    "poly01 = np.poly1d(my_fit1)"
   ]
  },
  {
   "cell_type": "code",
   "execution_count": 18,
   "metadata": {},
   "outputs": [
    {
     "data": {
      "text/plain": [
       "72.06994418130779"
      ]
     },
     "execution_count": 18,
     "metadata": {},
     "output_type": "execute_result"
    }
   ],
   "source": [
    "poly01(0) "
   ]
  },
  {
   "cell_type": "markdown",
   "metadata": {},
   "source": [
    "## How many years after landing could you still power a 60 W lightbulb?"
   ]
  },
  {
   "cell_type": "code",
   "execution_count": 19,
   "metadata": {},
   "outputs": [
    {
     "data": {
      "text/plain": [
       "array([ 1939.77458322, -1251.12039521])"
      ]
     },
     "execution_count": 19,
     "metadata": {},
     "output_type": "execute_result"
    }
   ],
   "source": [
    "(poly01 - 60).roots "
   ]
  },
  {
   "cell_type": "code",
   "execution_count": 37,
   "metadata": {},
   "outputs": [
    {
     "data": {
      "text/plain": [
       "5.3144509129427622"
      ]
     },
     "execution_count": 37,
     "metadata": {},
     "output_type": "execute_result"
    }
   ],
   "source": [
    "np.divide((poly01 - 60).roots[0], 365) "
   ]
  },
  {
   "cell_type": "code",
   "execution_count": 21,
   "metadata": {},
   "outputs": [],
   "source": [
    "#so about 5.33 years"
   ]
  },
  {
   "cell_type": "markdown",
   "metadata": {},
   "source": [
    "## How many years after landing could you still power a 5 W USB device?"
   ]
  },
  {
   "cell_type": "code",
   "execution_count": 22,
   "metadata": {},
   "outputs": [
    {
     "data": {
      "text/plain": [
       "array([ 4032.72070124, -3344.06651322])"
      ]
     },
     "execution_count": 22,
     "metadata": {},
     "output_type": "execute_result"
    }
   ],
   "source": [
    "(poly01 - 5).roots "
   ]
  },
  {
   "cell_type": "code",
   "execution_count": 35,
   "metadata": {},
   "outputs": [
    {
     "data": {
      "text/plain": [
       "11.048549866409333"
      ]
     },
     "execution_count": 35,
     "metadata": {},
     "output_type": "execute_result"
    }
   ],
   "source": [
    "np.divide((poly01 - 5).roots[0],365)"
   ]
  },
  {
   "cell_type": "code",
   "execution_count": 24,
   "metadata": {},
   "outputs": [],
   "source": [
    "#so about 11 years"
   ]
  },
  {
   "cell_type": "markdown",
   "metadata": {},
   "source": [
    "## How many years after landing until the power output is 0 W?"
   ]
  },
  {
   "cell_type": "code",
   "execution_count": 36,
   "metadata": {},
   "outputs": [
    {
     "data": {
      "text/plain": [
       "11.415278746646008"
      ]
     },
     "execution_count": 36,
     "metadata": {},
     "output_type": "execute_result"
    }
   ],
   "source": [
    "np.divide((poly01).roots[0],365) "
   ]
  },
  {
   "cell_type": "code",
   "execution_count": 26,
   "metadata": {},
   "outputs": [],
   "source": [
    "#so about 11.4 years"
   ]
  },
  {
   "cell_type": "markdown",
   "metadata": {},
   "source": [
    "---\n",
    "\n",
    "# Fitting data to a function\n",
    "\n",
    "* The datafile `./Data/FitMe.csv` contains two columns of data (x,y)\n",
    "* Use the OO interface to matplotlib\n",
    "* Plot the data x,y\n",
    "* Fit the function below to the data\n",
    "* Find the values of a,b,c that best fit the data\n",
    "- Output size w:11in, h:8.5in\n",
    "- Make the plot look nice (including clear labels)"
   ]
  },
  {
   "cell_type": "markdown",
   "metadata": {},
   "source": [
    "$$\\Large f(x) = a \\sin(bx) \\ e^{-cx} $$"
   ]
  },
  {
   "cell_type": "code",
   "execution_count": 27,
   "metadata": {},
   "outputs": [],
   "source": [
    "from scipy.optimize import curve_fit"
   ]
  },
  {
   "cell_type": "code",
   "execution_count": 28,
   "metadata": {},
   "outputs": [],
   "source": [
    "my_data2 = pd.read_csv('./Data/FitMe.csv')"
   ]
  },
  {
   "cell_type": "code",
   "execution_count": 29,
   "metadata": {},
   "outputs": [
    {
     "data": {
      "image/png": "[encoded data removed]"
     },
     "execution_count": 29,
     "metadata": {
      "image/png": {
       "height": 615,
       "width": 790
      }
     },
     "output_type": "execute_result"
    }
   ],
   "source": [
    "fig,ax = plt.subplots(1,1)\n",
    "fig.set_size_inches(11,8.5)\n",
    "\n",
    "fig.tight_layout()\n",
    "\n",
    "ax.set_xlabel(\"This is X\")\n",
    "ax.set_ylabel(\"This is Y\")\n",
    "\n",
    "ax.plot(my_data2['x'],my_data2['y'],marker=\"o\",linestyle=\"None\",markersize=10);"
   ]
  },
  {
   "cell_type": "code",
   "execution_count": 30,
   "metadata": {},
   "outputs": [],
   "source": [
    "def function(x,a,b,c):\n",
    "    return a*np.sin(b*x)*np.exp(-c * x)"
   ]
  },
  {
   "cell_type": "code",
   "execution_count": 31,
   "metadata": {},
   "outputs": [],
   "source": [
    "my_guess_a = 1.2\n",
    "my_guess_b = np.pi\n",
    "my_guess_c = 2\n",
    "\n",
    "init_guesses = [my_guess_a, my_guess_b, my_guess_c]"
   ]
  },
  {
   "cell_type": "code",
   "execution_count": 32,
   "metadata": {},
   "outputs": [
    {
     "name": "stdout",
     "output_type": "stream",
     "text": [
      "[ 2.53354069  4.11112386  0.34632213]\n"
     ]
    }
   ],
   "source": [
    "fitpars, error = curve_fit(function,my_data2['x'],my_data2['y'],p0=init_guesses)\n",
    "\n",
    "print(fitpars)"
   ]
  },
  {
   "cell_type": "code",
   "execution_count": 33,
   "metadata": {},
   "outputs": [
    {
     "data": {
      "image/png": "[encoded data removed]"
     },
     "execution_count": 33,
     "metadata": {
      "image/png": {
       "height": 615,
       "width": 790
      }
     },
     "output_type": "execute_result"
    }
   ],
   "source": [
    "fig,ax = plt.subplots(1,1)\n",
    "fig.set_size_inches(11,8.5)\n",
    "\n",
    "fig.tight_layout()\n",
    "\n",
    "ax.set_xlabel(\"x\")\n",
    "ax.set_ylabel(\"y\")\n",
    "\n",
    "ax.plot(my_data2['x'],my_data2['y'],marker=\"o\",linestyle=\"None\",markersize=10);"
   ]
  },
  {
   "cell_type": "code",
   "execution_count": 34,
   "metadata": {},
   "outputs": [
    {
     "data": {
      "image/png": "[encoded data removed]"
     },
     "execution_count": 34,
     "metadata": {
      "image/png": {
       "height": 615,
       "width": 790
      }
     },
     "output_type": "execute_result"
    }
   ],
   "source": [
    "Z = np.linspace(0,7,100)\n",
    "\n",
    "fig,ax = plt.subplots(1,1)\n",
    "fig.set_size_inches(11,8.5)\n",
    "\n",
    "fig.tight_layout()\n",
    "\n",
    "ax.set_xlabel(\"x\")\n",
    "ax.set_ylabel(\"y\")\n",
    "\n",
    "ax.plot(my_data2['x'],my_data2['y'],marker=\"o\",linestyle=\"None\",markersize=10);\n",
    "\n",
    "ax.plot(Z, function(Z, *fitpars),      'r-',  linewidth=3)\n",
    "ax.plot(Z, function(Z, *init_guesses), 'g--', linewidth=3);"
   ]
  },
  {
   "cell_type": "markdown",
   "metadata": {},
   "source": [
    "### Due Mon Feb 12 - Noon\n",
    "- `Make sure to change the filename to your name!`\n",
    "- `Make sure to change the Title to your name!`"
   ]
  }
 ],
 "metadata": {
  "anaconda-cloud": {},
  "kernelspec": {
   "display_name": "Python 3",
   "language": "python",
   "name": "python3"
  },
  "language_info": {
   "codemirror_mode": {
    "name": "ipython",
    "version": 3
   },
   "file_extension": ".py",
   "mimetype": "text/x-python",
   "name": "python",
   "nbconvert_exporter": "python",
   "pygments_lexer": "ipython3",
   "version": "3.8.3"
  }
 },
 "nbformat": 4,
 "nbformat_minor": 4
}
