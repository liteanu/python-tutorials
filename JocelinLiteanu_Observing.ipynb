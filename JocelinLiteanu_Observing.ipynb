{
 "cells": [
  {
   "cell_type": "markdown",
   "metadata": {
    "collapsed": false
   },
   "source": [
    "# Jocelin Liteanu - Observing with `astroplan`"
   ]
  },
  {
   "cell_type": "markdown",
   "metadata": {
    "collapsed": false
   },
   "source": [
    "# Observing Window:\n",
    " * Start: `Jul 27, 2018 12:00:00 UTC`\n",
    " * End: `Jul 28, 2018 12:00:00 UTC`\n",
    "\n",
    "---\n",
    "\n",
    "# Locations\n",
    "\n",
    "- Mawson Peak, Heard Island\n",
    "- Porto De Manaus, Bazil\n",
    "- Inis na Bró, County Kerry, Ireland\n",
    "\n",
    "---"
   ]
  },
  {
   "cell_type": "code",
   "execution_count": 1,
   "metadata": {
    "collapsed": false
   },
   "outputs": [
   ],
   "source": [
    "%matplotlib inline\n",
    "import matplotlib.pyplot as plt\n",
    "\n",
    "import numpy as np\n",
    "import pandas as pd\n",
    "\n",
    "import astropy.units as u\n",
    "from astropy.time import Time\n",
    "from astropy.coordinates import SkyCoord\n",
    "import pytz\n",
    "\n",
    "from astroplan.plots import plot_sky, plot_airmass\n",
    "from astroplan import Observer, FixedTarget, time_grid_from_range, observability_table, moon_illumination\n",
    "from astroplan import AirmassConstraint, MoonSeparationConstraint"
   ]
  },
  {
   "cell_type": "markdown",
   "metadata": {
    "collapsed": false
   },
   "source": [
    "# Part I\n",
    "\n",
    "## Set up the locations"
   ]
  },
  {
   "cell_type": "code",
   "execution_count": 2,
   "metadata": {
    "collapsed": false
   },
   "outputs": [
    {
     "data": {
      "text/plain": [
       "<Observer: name='mawson_tz',\n",
       "    location (lon, lat, el)=(73.51666388888889 deg, -52.9 deg, 9006.000000000862 m),\n",
       "    timezone=<DstTzInfo 'Antarctica/Mawson' -000:00:00 STD>>"
      ]
     },
     "execution_count": 2,
     "metadata": {
     },
     "output_type": "execute_result"
    }
   ],
   "source": [
    "mawson_peak = Observer(longitude = 73 * u.deg + 30 * u.arcmin + 59.99 * u.arcsec,\n",
    "                    latitude = -53 * u.deg + 5 * u.arcmin + 60 * u.arcsec,              \n",
    "                    elevation = 9006 * u.m,\n",
    "                    timezone = 'Antarctica/Mawson',\n",
    "                    name = \"mawson_tz\"\n",
    "                    )\n",
    "\n",
    "mawson_peak"
   ]
  },
  {
   "cell_type": "code",
   "execution_count": 3,
   "metadata": {
    "collapsed": false
   },
   "outputs": [
    {
     "data": {
      "text/plain": [
       "<Observer: name='porto_tz',\n",
       "    location (lon, lat, el)=(-59.983166666666676 deg, -2.860833333333334 deg, 91.99999999951184 m),\n",
       "    timezone=<DstTzInfo 'America/Manaus' LMT-1 day, 20:00:00 STD>>"
      ]
     },
     "execution_count": 3,
     "metadata": {
     },
     "output_type": "execute_result"
    }
   ],
   "source": [
    "porto = Observer(longitude =  -60* u.deg +  1* u.arcmin + .6 * u.arcsec,\n",
    "                    latitude = -3 * u.deg + 8 * u.arcmin +  21* u.arcsec,\n",
    "                    elevation = 92 * u.m,\n",
    "                    timezone = 'America/Manaus',\n",
    "                    name = \"porto_tz\"\n",
    "                    )\n",
    "porto"
   ]
  },
  {
   "cell_type": "code",
   "execution_count": 4,
   "metadata": {
    "collapsed": false
   },
   "outputs": [
   ],
   "source": [
    "inis = Observer(longitude = -10 * u.deg + 36 * u.arcmin + 32.87 * u.arcsec,\n",
    "                    latitude = 52 * u.deg + 3 * u.arcmin + 28.30 * u.arcsec,\n",
    "                    elevation = 175 * u.m,\n",
    "                    timezone = 'Europe/Dublin',\n",
    "                    name = \"inis_tz\"\n",
    "                    )\n"
   ]
  },
  {
   "cell_type": "markdown",
   "metadata": {
    "collapsed": false
   },
   "source": [
    "## Determine the *Local Time* at beginning of observing window at each location."
   ]
  },
  {
   "cell_type": "code",
   "execution_count": 5,
   "metadata": {
    "collapsed": false
   },
   "outputs": [
   ],
   "source": [
    "current_time = Time.now()"
   ]
  },
  {
   "cell_type": "code",
   "execution_count": 6,
   "metadata": {
    "collapsed": false
   },
   "outputs": [
    {
     "data": {
      "text/plain": [
       "<Observer: name='mawson_tz',\n",
       "    location (lon, lat, el)=(73.51666388888889 deg, -52.9 deg, 9006.000000000862 m),\n",
       "    timezone=<DstTzInfo 'Antarctica/Mawson' -000:00:00 STD>>"
      ]
     },
     "execution_count": 6,
     "metadata": {
     },
     "output_type": "execute_result"
    }
   ],
   "source": [
    "mawson_peak"
   ]
  },
  {
   "cell_type": "code",
   "execution_count": 7,
   "metadata": {
    "collapsed": false
   },
   "outputs": [
    {
     "data": {
      "text/plain": [
       "<DstTzInfo 'Antarctica/Mawson' -000:00:00 STD>"
      ]
     },
     "execution_count": 7,
     "metadata": {
     },
     "output_type": "execute_result"
    }
   ],
   "source": [
    "mawson_peak.timezone"
   ]
  },
  {
   "cell_type": "code",
   "execution_count": 8,
   "metadata": {
    "collapsed": false
   },
   "outputs": [
    {
     "name": "stdout",
     "output_type": "stream",
     "text": [
      "2018-02-21 01:24:35.532834+05:00\n"
     ]
    }
   ],
   "source": [
    "local_now = current_time.to_datetime(mawson_peak.timezone)\n",
    "print(local_now)"
   ]
  },
  {
   "cell_type": "code",
   "execution_count": 9,
   "metadata": {
    "collapsed": false
   },
   "outputs": [
    {
     "data": {
      "text/plain": [
       "<DstTzInfo 'America/Manaus' LMT-1 day, 20:00:00 STD>"
      ]
     },
     "execution_count": 9,
     "metadata": {
     },
     "output_type": "execute_result"
    }
   ],
   "source": [
    "porto.timezone"
   ]
  },
  {
   "cell_type": "code",
   "execution_count": 10,
   "metadata": {
    "collapsed": false
   },
   "outputs": [
    {
     "name": "stdout",
     "output_type": "stream",
     "text": [
      "2018-02-20 16:24:35.532834-04:00\n"
     ]
    }
   ],
   "source": [
    "local_now = current_time.to_datetime(porto.timezone)\n",
    "print(local_now)"
   ]
  },
  {
   "cell_type": "code",
   "execution_count": 11,
   "metadata": {
    "collapsed": false
   },
   "outputs": [
    {
     "data": {
      "text/plain": [
       "<DstTzInfo 'Europe/Dublin' LMT-1 day, 23:35:00 STD>"
      ]
     },
     "execution_count": 11,
     "metadata": {
     },
     "output_type": "execute_result"
    }
   ],
   "source": [
    "inis.timezone"
   ]
  },
  {
   "cell_type": "code",
   "execution_count": 12,
   "metadata": {
    "collapsed": false
   },
   "outputs": [
    {
     "name": "stdout",
     "output_type": "stream",
     "text": [
      "2018-02-20 20:24:35.532834+00:00\n"
     ]
    }
   ],
   "source": [
    "local_now = current_time.to_datetime(inis.timezone)\n",
    "print(local_now)"
   ]
  },
  {
   "cell_type": "markdown",
   "metadata": {
    "collapsed": false
   },
   "source": [
    "## Determine the start/end time and length of the observing run at each location\n",
    "\n",
    "* All times should be in UTC\n",
    "* Length of run is from Astronomical Evening Twilight to Astronomical Morning Twilight\n",
    "* If your length is > 24 hr or < 0 hr you pick the wrong sunset/sunrise"
   ]
  },
  {
   "cell_type": "code",
   "execution_count": 13,
   "metadata": {
    "collapsed": false
   },
   "outputs": [
   ],
   "source": [
    "start_time = Time(\"2018-07-27 12:00:00\")"
   ]
  },
  {
   "cell_type": "code",
   "execution_count": 14,
   "metadata": {
    "collapsed": false
   },
   "outputs": [
   ],
   "source": [
    "end_time = Time(\"2018-07-28 12:00:00\")"
   ]
  },
  {
   "cell_type": "code",
   "execution_count": 15,
   "metadata": {
    "collapsed": false
   },
   "outputs": [
    {
     "data": {
      "text/plain": [
       "<Time object: scale='utc' format='iso' value=2018-07-27 12:00:00.000>"
      ]
     },
     "execution_count": 15,
     "metadata": {
     },
     "output_type": "execute_result"
    }
   ],
   "source": [
    "start_time"
   ]
  },
  {
   "cell_type": "code",
   "execution_count": 16,
   "metadata": {
    "collapsed": false
   },
   "outputs": [
    {
     "name": "stdout",
     "output_type": "stream",
     "text": [
      "Astronomical Evening Twilight starts at 2018-07-27 13:31:34.383 UTC\n",
      "Astronomical Morning Twilight starts at 2018-07-28 00:52:46.206 UTC\n"
     ]
    }
   ],
   "source": [
    "astro_set_m = mawson_peak.twilight_evening_astronomical(start_time, which='nearest')\n",
    "astro_rise_m = mawson_peak.twilight_morning_astronomical(start_time, which='next')\n",
    "\n",
    "print(\"Astronomical Evening Twilight starts at {0.iso} UTC\".format(astro_set_m))\n",
    "print(\"Astronomical Morning Twilight starts at {0.iso} UTC\".format(astro_rise_m))\n"
   ]
  },
  {
   "cell_type": "code",
   "execution_count": 17,
   "metadata": {
    "collapsed": false
   },
   "outputs": [
    {
     "name": "stdout",
     "output_type": "stream",
     "text": [
      "You can observe for 11.4 h at Mawson/Antarctica tonight\n"
     ]
    }
   ],
   "source": [
    "observing_length_mawson = (astro_rise_m - astro_set_m).to(u.h)\n",
    "print(\"You can observe for {0:.1f} at Mawson/Antarctica tonight\".format(observing_length_mawson))"
   ]
  },
  {
   "cell_type": "code",
   "execution_count": 18,
   "metadata": {
    "collapsed": false
   },
   "outputs": [
    {
     "name": "stdout",
     "output_type": "stream",
     "text": [
      "Astronomical Evening Twilight starts at 2018-07-28 08:54:13.156 UTC\n",
      "Astronomical Morning Twilight starts at 2018-07-27 23:18:41.731 UTC\n"
     ]
    }
   ],
   "source": [
    "astro_set_p = porto.twilight_evening_astronomical(start_time, which='nearest')\n",
    "astro_rise_p = porto.twilight_morning_astronomical(start_time, which='next')\n",
    "\n",
    "print(\"Astronomical Evening Twilight starts at {0.iso} UTC\".format(astro_rise_p))\n",
    "print(\"Astronomical Morning Twilight starts at {0.iso} UTC\".format(astro_set_p))"
   ]
  },
  {
   "cell_type": "code",
   "execution_count": 19,
   "metadata": {
    "collapsed": false
   },
   "outputs": [
    {
     "name": "stdout",
     "output_type": "stream",
     "text": [
      "You can observe for 9.6 h at Brazil/Manaus tonight\n"
     ]
    }
   ],
   "source": [
    "observing_length_porto = (astro_rise_p - astro_set_p).to(u.h)\n",
    "print(\"You can observe for {0:.1f} at Brazil/Manaus tonight\".format(observing_length_porto))\n"
   ]
  },
  {
   "cell_type": "code",
   "execution_count": 20,
   "metadata": {
    "collapsed": false
   },
   "outputs": [
    {
     "name": "stdout",
     "output_type": "stream",
     "text": [
      "Astronomical Evening Twilight starts at 2018-07-28 01:36:28.016 UTC\n",
      "Astronomical Morning Twilight starts at 2018-07-27 23:52:08.435 UTC\n"
     ]
    }
   ],
   "source": [
    "astro_set_i = inis.twilight_evening_astronomical(start_time, which='nearest')\n",
    "astro_rise_i = inis.twilight_morning_astronomical(start_time, which='next')\n",
    "\n",
    "print(\"Astronomical Evening Twilight starts at {0.iso} UTC\".format(astro_rise_i))\n",
    "print(\"Astronomical Morning Twilight starts at {0.iso} UTC\".format(astro_set_i))"
   ]
  },
  {
   "cell_type": "code",
   "execution_count": 21,
   "metadata": {
    "collapsed": false
   },
   "outputs": [
    {
     "name": "stdout",
     "output_type": "stream",
     "text": [
      "You can observe for 1.7 h at Europe/Dublin tonight\n"
     ]
    }
   ],
   "source": [
    "observing_length_inis = (astro_rise_i - astro_set_i).to(u.h)\n",
    "print(\"You can observe for {0:.1f} at Europe/Dublin tonight\".format(observing_length_inis))"
   ]
  },
  {
   "cell_type": "markdown",
   "metadata": {
    "collapsed": false
   },
   "source": [
    "# Part II\n",
    "\n",
    "* I have given you three locations (above), some constraints, and list of targets: `./Data/TargetList.csv`\n",
    "* Your job is to determine which of the three locations can see the most targets for the longest time, given the constraints.\n",
    "* Points awarded will depend on how clearly you support your answer."
   ]
  },
  {
   "cell_type": "markdown",
   "metadata": {
    "collapsed": false
   },
   "source": [
    "## Set up the targets (`./Data/TargetList.csv`)"
   ]
  },
  {
   "cell_type": "code",
   "execution_count": 22,
   "metadata": {
    "collapsed": false
   },
   "outputs": [
   ],
   "source": [
    "target_table = pd.read_csv('./Data/TargetList.csv')"
   ]
  },
  {
   "cell_type": "code",
   "execution_count": 23,
   "metadata": {
    "collapsed": false
   },
   "outputs": [
   ],
   "source": [
    "table_values = target_table.as_matrix()"
   ]
  },
  {
   "cell_type": "code",
   "execution_count": 24,
   "metadata": {
    "collapsed": false
   },
   "outputs": [
    {
     "data": {
      "text/plain": [
       "array([['HCG_98', 23.903544, 0.373281],\n",
       "       ['HCG_65', 13.498313000000001, -29.499610999999998],\n",
       "       ['HCG_66', 13.64265, 57.304339],\n",
       "       ['HCG_67', 13.817646, -7.205427],\n",
       "       ['HCG_85', 18.839536, 73.349942],\n",
       "       ['HCG_87', 20.803299, -19.840636],\n",
       "       ['HCG_88', 20.873002, -5.757898],\n",
       "       ['HCG_92', 22.600143, 33.965767]], dtype=object)"
      ]
     },
     "execution_count": 24,
     "metadata": {
     },
     "output_type": "execute_result"
    }
   ],
   "source": [
    "table_values"
   ]
  },
  {
   "cell_type": "code",
   "execution_count": 25,
   "metadata": {
    "collapsed": false
   },
   "outputs": [
   ],
   "source": [
    "targets = [FixedTarget(coord=SkyCoord(ra = RA*u.hourangle, dec = DEC*u.deg), name=Name)\n",
    "           for Name, RA, DEC in table_values]"
   ]
  },
  {
   "cell_type": "code",
   "execution_count": 26,
   "metadata": {
    "collapsed": false
   },
   "outputs": [
    {
     "data": {
      "text/plain": [
       "[<FixedTarget \"HCG_98\" at SkyCoord (ICRS): (ra, dec) in deg (358.55316, 0.373281)>,\n",
       " <FixedTarget \"HCG_65\" at SkyCoord (ICRS): (ra, dec) in deg (202.474695, -29.499611)>,\n",
       " <FixedTarget \"HCG_66\" at SkyCoord (ICRS): (ra, dec) in deg (204.63975, 57.304339)>,\n",
       " <FixedTarget \"HCG_67\" at SkyCoord (ICRS): (ra, dec) in deg (207.26469, -7.205427)>,\n",
       " <FixedTarget \"HCG_85\" at SkyCoord (ICRS): (ra, dec) in deg (282.59304, 73.349942)>,\n",
       " <FixedTarget \"HCG_87\" at SkyCoord (ICRS): (ra, dec) in deg (312.049485, -19.840636)>,\n",
       " <FixedTarget \"HCG_88\" at SkyCoord (ICRS): (ra, dec) in deg (313.09503, -5.757898)>,\n",
       " <FixedTarget \"HCG_92\" at SkyCoord (ICRS): (ra, dec) in deg (339.002145, 33.965767)>]"
      ]
     },
     "execution_count": 26,
     "metadata": {
     },
     "output_type": "execute_result"
    }
   ],
   "source": [
    "targets"
   ]
  },
  {
   "cell_type": "markdown",
   "metadata": {
    "collapsed": false
   },
   "source": [
    "## Constraints\n",
    "\n",
    "- Airmass < 2\n",
    "- Moon Separation > 35 degrees"
   ]
  },
  {
   "cell_type": "code",
   "execution_count": 27,
   "metadata": {
    "collapsed": false
   },
   "outputs": [
   ],
   "source": [
    "from astroplan import AltitudeConstraint, AirmassConstraint, AtNightConstraint\n",
    "from astroplan import observability_table\n",
    "from astroplan import MoonSeparationConstraint"
   ]
  },
  {
   "cell_type": "code",
   "execution_count": 28,
   "metadata": {
    "collapsed": false
   },
   "outputs": [
   ],
   "source": [
    "constraints = [AirmassConstraint(2)]"
   ]
  },
  {
   "cell_type": "code",
   "execution_count": 29,
   "metadata": {
    "collapsed": false
   },
   "outputs": [
   ],
   "source": [
    "constraints.append(MoonSeparationConstraint(35*u.deg))"
   ]
  },
  {
   "cell_type": "markdown",
   "metadata": {
    "collapsed": false
   },
   "source": [
    "### Location 1"
   ]
  },
  {
   "cell_type": "code",
   "execution_count": 30,
   "metadata": {
    "collapsed": false
   },
   "outputs": [
   ],
   "source": [
    "observing_range_m = [astro_set_m, astro_rise_m]"
   ]
  },
  {
   "cell_type": "code",
   "execution_count": 31,
   "metadata": {
    "collapsed": false
   },
   "outputs": [
    {
     "name": "stdout",
     "output_type": "stream",
     "text": [
      "target name ever observable always observable fraction of time observable\n",
      "----------- --------------- ----------------- ---------------------------\n",
      "     HCG_98            True             False           0.391304347826087\n",
      "     HCG_65            True             False         0.34782608695652173\n",
      "     HCG_66           False             False                         0.0\n",
      "     HCG_67            True             False         0.21739130434782608\n",
      "     HCG_85           False             False                         0.0\n",
      "     HCG_87           False             False                         0.0\n",
      "     HCG_88           False             False                         0.0\n",
      "     HCG_92           False             False                         0.0\n"
     ]
    }
   ],
   "source": [
    "observing_table_m = observability_table(constraints, mawson_peak, targets, time_range=observing_range_m)\n",
    "\n",
    "print(observing_table_m)"
   ]
  },
  {
   "cell_type": "code",
   "execution_count": 32,
   "metadata": {
    "collapsed": false
   },
   "outputs": [
   ],
   "source": [
    "window_range_m = [start_time, end_time]\n",
    "window_time_grid_m = time_grid_from_range(window_range_m)"
   ]
  },
  {
   "cell_type": "code",
   "execution_count": 33,
   "metadata": {
    "collapsed": false
   },
   "outputs": [
    {
     "data": {
      "image/png": "[encoded data removed]"
     },
     "execution_count": 33,
     "metadata": {
     },
     "output_type": "execute_result"
    }
   ],
   "source": [
    "fig,ax = plt.subplots(1,1)\n",
    "fig.set_size_inches(10,5)\n",
    "\n",
    "fig.tight_layout()\n",
    "\n",
    "for i, my_object in enumerate(targets):\n",
    "\n",
    "    if observing_table_m['ever observable'][i]:\n",
    "        ax = plot_airmass(my_object, mawson_peak, window_time_grid_m, max_airmass=2.0)\n",
    "\n",
    "ax.vlines(astro_set_m.datetime, 1,3, color='r', linewidth=5)\n",
    "ax.vlines(astro_rise_m.datetime, 1,3, color='r', linewidth=5)\n",
    "\n",
    "ax.legend(loc=0,shadow=True);"
   ]
  },
  {
   "cell_type": "code",
   "execution_count": 34,
   "metadata": {
    "collapsed": false
   },
   "outputs": [
    {
     "name": "stdout",
     "output_type": "stream",
     "text": [
      "You can observe HCG_98 for 4.44 h\n",
      "You can observe HCG_65 for 3.95 h\n",
      "You can observe HCG_67 for 2.47 h\n"
     ]
    }
   ],
   "source": [
    "for i, my_object in enumerate(targets):\n",
    "\n",
    "    if observing_table_m['ever observable'][i]:\n",
    "        name = observing_table_m['target name'][i]\n",
    "        obj_frac = observing_table_m['fraction of time observable'][i]\n",
    "        obj_time = obj_frac * observing_length_mawson\n",
    "        output = \"You can observe {0:s} for {1:.2f}\".format(name, obj_time.to(u.h))\n",
    "        print(output)"
   ]
  },
  {
   "cell_type": "markdown",
   "metadata": {
    "collapsed": false
   },
   "source": [
    "### Location 2"
   ]
  },
  {
   "cell_type": "code",
   "execution_count": 35,
   "metadata": {
    "collapsed": false
   },
   "outputs": [
   ],
   "source": [
    "observing_range_p = [astro_set_p, astro_rise_p]"
   ]
  },
  {
   "cell_type": "code",
   "execution_count": 36,
   "metadata": {
    "collapsed": false
   },
   "outputs": [
    {
     "name": "stdout",
     "output_type": "stream",
     "text": [
      "target name ever observable always observable fraction of time observable\n",
      "----------- --------------- ----------------- ---------------------------\n",
      "     HCG_98            True             False                        0.55\n",
      "     HCG_65            True             False                         0.2\n",
      "     HCG_66           False             False                         0.0\n",
      "     HCG_67            True             False                        0.25\n",
      "     HCG_85           False             False                         0.0\n",
      "     HCG_87           False             False                         0.0\n",
      "     HCG_88           False             False                         0.0\n",
      "     HCG_92            True             False                         0.6\n"
     ]
    }
   ],
   "source": [
    "observing_table_p = observability_table(constraints, porto, targets, time_range=observing_range_p)\n",
    "\n",
    "print(observing_table_p)"
   ]
  },
  {
   "cell_type": "code",
   "execution_count": 37,
   "metadata": {
    "collapsed": false
   },
   "outputs": [
   ],
   "source": [
    "window_range_p = [start_time, end_time]\n",
    "window_time_grid_p = time_grid_from_range(window_range_p)"
   ]
  },
  {
   "cell_type": "code",
   "execution_count": 38,
   "metadata": {
    "collapsed": false
   },
   "outputs": [
    {
     "data": {
      "image/png": "[encoded data removed]"
     },
     "execution_count": 38,
     "metadata": {
     },
     "output_type": "execute_result"
    }
   ],
   "source": [
    "fig,ax = plt.subplots(1,1)\n",
    "fig.set_size_inches(10,5)\n",
    "\n",
    "fig.tight_layout()\n",
    "\n",
    "for i, my_object in enumerate(targets):\n",
    "\n",
    "    if observing_table_p['ever observable'][i]:\n",
    "        ax = plot_airmass(my_object, porto, window_time_grid_p, max_airmass=2.0)\n",
    "\n",
    "ax.vlines(astro_set_p.datetime, 1,3, color='r', linewidth=5)\n",
    "ax.vlines(astro_rise_p.datetime, 1,3, color='r', linewidth=5)\n",
    "\n",
    "ax.legend(loc=0,shadow=True);"
   ]
  },
  {
   "cell_type": "code",
   "execution_count": 39,
   "metadata": {
    "collapsed": false
   },
   "outputs": [
    {
     "name": "stdout",
     "output_type": "stream",
     "text": [
      "You can observe HCG_98 for 5.28 h\n",
      "You can observe HCG_65 for 1.92 h\n",
      "You can observe HCG_67 for 2.40 h\n",
      "You can observe HCG_92 for 5.76 h\n"
     ]
    }
   ],
   "source": [
    "for i, my_object in enumerate(targets):\n",
    "\n",
    "    if observing_table_p['ever observable'][i]:\n",
    "        name = observing_table_p['target name'][i]\n",
    "        obj_frac = observing_table_p['fraction of time observable'][i]\n",
    "        obj_time = obj_frac * observing_length_porto\n",
    "        output = \"You can observe {0:s} for {1:.2f}\".format(name, obj_time.to(u.h))\n",
    "        print(output)"
   ]
  },
  {
   "cell_type": "markdown",
   "metadata": {
    "collapsed": false
   },
   "source": [
    "### Location 3"
   ]
  },
  {
   "cell_type": "code",
   "execution_count": 40,
   "metadata": {
    "collapsed": false
   },
   "outputs": [
   ],
   "source": [
    "observing_range_i = [astro_set_i, astro_rise_i]"
   ]
  },
  {
   "cell_type": "code",
   "execution_count": 41,
   "metadata": {
    "collapsed": false
   },
   "outputs": [
    {
     "name": "stdout",
     "output_type": "stream",
     "text": [
      "target name ever observable always observable fraction of time observable\n",
      "----------- --------------- ----------------- ---------------------------\n",
      "     HCG_98           False             False                         0.0\n",
      "     HCG_65           False             False                         0.0\n",
      "     HCG_66            True              True                         1.0\n",
      "     HCG_67           False             False                         0.0\n",
      "     HCG_85            True              True                         1.0\n",
      "     HCG_87           False             False                         0.0\n",
      "     HCG_88           False             False                         0.0\n",
      "     HCG_92            True              True                         1.0\n"
     ]
    }
   ],
   "source": [
    "observing_table_i = observability_table(constraints, inis, targets, time_range=observing_range_i)\n",
    "\n",
    "print(observing_table_i)"
   ]
  },
  {
   "cell_type": "code",
   "execution_count": 42,
   "metadata": {
    "collapsed": false
   },
   "outputs": [
   ],
   "source": [
    "window_range_i = [start_time, end_time]\n",
    "window_time_grid_i = time_grid_from_range(window_range_i)"
   ]
  },
  {
   "cell_type": "code",
   "execution_count": 43,
   "metadata": {
    "collapsed": false
   },
   "outputs": [
    {
     "data": {
      "image/png": "[encoded data removed]"
     },
     "execution_count": 43,
     "metadata": {
     },
     "output_type": "execute_result"
    }
   ],
   "source": [
    "fig,ax = plt.subplots(1,1)\n",
    "fig.set_size_inches(10,5)\n",
    "\n",
    "fig.tight_layout()\n",
    "\n",
    "for i, my_object in enumerate(targets):\n",
    "\n",
    "    if observing_table_i['ever observable'][i]:\n",
    "        ax = plot_airmass(my_object, inis, window_time_grid_i, max_airmass=2.0)\n",
    "\n",
    "ax.vlines(astro_set_i.datetime, 1,3, color='r', linewidth=5)\n",
    "ax.vlines(astro_rise_i.datetime, 1,3, color='r', linewidth=5)\n",
    "\n",
    "ax.legend(loc=0,shadow=True);"
   ]
  },
  {
   "cell_type": "code",
   "execution_count": 44,
   "metadata": {
    "collapsed": false
   },
   "outputs": [
    {
     "name": "stdout",
     "output_type": "stream",
     "text": [
      "You can observe HCG_66 for 1.74 h\n",
      "You can observe HCG_85 for 1.74 h\n",
      "You can observe HCG_92 for 1.74 h\n"
     ]
    }
   ],
   "source": [
    "for i, my_object in enumerate(targets):\n",
    "\n",
    "    if observing_table_i['ever observable'][i]:\n",
    "        name = observing_table_i['target name'][i]\n",
    "        obj_frac = observing_table_i['fraction of time observable'][i]\n",
    "        obj_time = obj_frac * observing_length_inis\n",
    "        output = \"You can observe {0:s} for {1:.2f}\".format(name, obj_time.to(u.h))\n",
    "        print(output)"
   ]
  },
  {
   "cell_type": "code",
   "execution_count": 45,
   "metadata": {
    "collapsed": false
   },
   "outputs": [
   ],
   "source": [
    "#which location is the best to observe? \n",
    "#Location 1 is 3 objects in 10.6 hours\n",
    "#Location 2 is 5 objects in 15.36 hours\n",
    "#Location 3 is 3 objects in 5.22 hours\n",
    "#The best to observe would be  most objects for the longest amount of time is porto Brazil."
   ]
  },
  {
   "cell_type": "markdown",
   "metadata": {
    "collapsed": true
   },
   "source": [
    "### Due Mon Feb 19 - Noon\n",
    "- `Make sure to change the filename to your name!`\n",
    "- `Make sure to change the Title to your name!`"
   ]
  }
 ],
 "metadata": {
  "anaconda-cloud": {
  },
  "kernelspec": {
   "display_name": "Python 3 (Ubuntu Linux)",
   "language": "python",
   "name": "python3"
  },
  "language_info": {
   "codemirror_mode": {
    "name": "ipython",
    "version": 3
   },
   "file_extension": ".py",
   "mimetype": "text/x-python",
   "name": "python",
   "nbconvert_exporter": "python",
   "pygments_lexer": "ipython3",
   "version": "3.5.2"
  }
 },
 "nbformat": 4,
 "nbformat_minor": 0
}